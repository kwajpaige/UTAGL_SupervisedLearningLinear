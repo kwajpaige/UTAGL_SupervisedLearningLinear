{
 "cells": [
  {
   "cell_type": "code",
   "execution_count": 1,
   "metadata": {},
   "outputs": [],
   "source": [
    "import pandas as pd\n",
    "import numpy as np\n",
    "\n",
    "import matplotlib.pyplot as plt\n",
    "import seaborn as sns\n",
    "\n",
    "# Removes the limit from the number of displayed columns and rows.\n",
    "# This is so I can see the entire dataframe when I print it\n",
    "pd.set_option('display.max_columns', None)\n",
    "# pd.set_option('display.max_rows', None)\n",
    "pd.set_option('display.max_rows', 200)"
   ]
  },
  {
   "cell_type": "code",
   "execution_count": 4,
   "metadata": {},
   "outputs": [
    {
     "name": "stdout",
     "output_type": "stream",
     "text": [
      "There are 378661 rows and 14 columns.\n"
     ]
    },
    {
     "data": {
      "text/html": [
       "<div>\n",
       "<style scoped>\n",
       "    .dataframe tbody tr th:only-of-type {\n",
       "        vertical-align: middle;\n",
       "    }\n",
       "\n",
       "    .dataframe tbody tr th {\n",
       "        vertical-align: top;\n",
       "    }\n",
       "\n",
       "    .dataframe thead th {\n",
       "        text-align: right;\n",
       "    }\n",
       "</style>\n",
       "<table border=\"1\" class=\"dataframe\">\n",
       "  <thead>\n",
       "    <tr style=\"text-align: right;\">\n",
       "      <th></th>\n",
       "      <th>ID</th>\n",
       "      <th>name</th>\n",
       "      <th>subcategory</th>\n",
       "      <th>category</th>\n",
       "      <th>currency</th>\n",
       "      <th>deadline</th>\n",
       "      <th>goal</th>\n",
       "      <th>launched</th>\n",
       "      <th>pledged</th>\n",
       "      <th>state</th>\n",
       "      <th>backers</th>\n",
       "      <th>country</th>\n",
       "      <th>usd_pledged_real</th>\n",
       "      <th>usd_goal_real</th>\n",
       "    </tr>\n",
       "  </thead>\n",
       "  <tbody>\n",
       "    <tr>\n",
       "      <th>99838</th>\n",
       "      <td>1506962323</td>\n",
       "      <td>2018 Comic Con/ Horror Con/ GMCC</td>\n",
       "      <td>Art</td>\n",
       "      <td>Art</td>\n",
       "      <td>USD</td>\n",
       "      <td>10-10-2017</td>\n",
       "      <td>600.0</td>\n",
       "      <td>31-08-2017 04:05</td>\n",
       "      <td>600.00</td>\n",
       "      <td>successful</td>\n",
       "      <td>4</td>\n",
       "      <td>US</td>\n",
       "      <td>600.00</td>\n",
       "      <td>600.00</td>\n",
       "    </tr>\n",
       "    <tr>\n",
       "      <th>15731</th>\n",
       "      <td>1079621785</td>\n",
       "      <td>Ixion's The Four Disgracers</td>\n",
       "      <td>Theater</td>\n",
       "      <td>Theater</td>\n",
       "      <td>USD</td>\n",
       "      <td>26-04-2014</td>\n",
       "      <td>3500.0</td>\n",
       "      <td>27-03-2014 20:21</td>\n",
       "      <td>2920.00</td>\n",
       "      <td>failed</td>\n",
       "      <td>54</td>\n",
       "      <td>US</td>\n",
       "      <td>2920.00</td>\n",
       "      <td>3500.00</td>\n",
       "    </tr>\n",
       "    <tr>\n",
       "      <th>339459</th>\n",
       "      <td>799118140</td>\n",
       "      <td>Irving Comics Inc. (Canceled)</td>\n",
       "      <td>Comics</td>\n",
       "      <td>Comics</td>\n",
       "      <td>USD</td>\n",
       "      <td>16-04-2015</td>\n",
       "      <td>10000.0</td>\n",
       "      <td>17-03-2015 20:58</td>\n",
       "      <td>75.00</td>\n",
       "      <td>canceled</td>\n",
       "      <td>1</td>\n",
       "      <td>US</td>\n",
       "      <td>75.00</td>\n",
       "      <td>10000.00</td>\n",
       "    </tr>\n",
       "    <tr>\n",
       "      <th>100211</th>\n",
       "      <td>1508896926</td>\n",
       "      <td>Breakaway</td>\n",
       "      <td>Shorts</td>\n",
       "      <td>Film &amp; Video</td>\n",
       "      <td>USD</td>\n",
       "      <td>17-10-2011</td>\n",
       "      <td>5000.0</td>\n",
       "      <td>16-09-2011 20:11</td>\n",
       "      <td>5365.00</td>\n",
       "      <td>successful</td>\n",
       "      <td>60</td>\n",
       "      <td>US</td>\n",
       "      <td>5365.00</td>\n",
       "      <td>5000.00</td>\n",
       "    </tr>\n",
       "    <tr>\n",
       "      <th>170820</th>\n",
       "      <td>1869016023</td>\n",
       "      <td>the Atomic Café Mobile</td>\n",
       "      <td>Drinks</td>\n",
       "      <td>Food</td>\n",
       "      <td>USD</td>\n",
       "      <td>19-06-2015</td>\n",
       "      <td>5000.0</td>\n",
       "      <td>20-05-2015 10:47</td>\n",
       "      <td>5111.06</td>\n",
       "      <td>successful</td>\n",
       "      <td>53</td>\n",
       "      <td>US</td>\n",
       "      <td>5111.06</td>\n",
       "      <td>5000.00</td>\n",
       "    </tr>\n",
       "    <tr>\n",
       "      <th>75113</th>\n",
       "      <td>1382708884</td>\n",
       "      <td>Shaken</td>\n",
       "      <td>Dance</td>\n",
       "      <td>Dance</td>\n",
       "      <td>USD</td>\n",
       "      <td>11-04-2011</td>\n",
       "      <td>2000.0</td>\n",
       "      <td>11-03-2011 05:13</td>\n",
       "      <td>2615.00</td>\n",
       "      <td>successful</td>\n",
       "      <td>51</td>\n",
       "      <td>US</td>\n",
       "      <td>2615.00</td>\n",
       "      <td>2000.00</td>\n",
       "    </tr>\n",
       "    <tr>\n",
       "      <th>258934</th>\n",
       "      <td>386894220</td>\n",
       "      <td>Happiness Ambassador Postcard Project Year: 20...</td>\n",
       "      <td>Mixed Media</td>\n",
       "      <td>Art</td>\n",
       "      <td>USD</td>\n",
       "      <td>29-09-2012</td>\n",
       "      <td>800.0</td>\n",
       "      <td>15-09-2012 01:29</td>\n",
       "      <td>80.00</td>\n",
       "      <td>failed</td>\n",
       "      <td>3</td>\n",
       "      <td>US</td>\n",
       "      <td>80.00</td>\n",
       "      <td>800.00</td>\n",
       "    </tr>\n",
       "    <tr>\n",
       "      <th>178566</th>\n",
       "      <td>19084902</td>\n",
       "      <td>Unlikely Friends (Short Film)</td>\n",
       "      <td>Drama</td>\n",
       "      <td>Film &amp; Video</td>\n",
       "      <td>GBP</td>\n",
       "      <td>13-03-2015</td>\n",
       "      <td>150.0</td>\n",
       "      <td>03-02-2015 09:49</td>\n",
       "      <td>5.00</td>\n",
       "      <td>failed</td>\n",
       "      <td>1</td>\n",
       "      <td>GB</td>\n",
       "      <td>7.39</td>\n",
       "      <td>221.71</td>\n",
       "    </tr>\n",
       "    <tr>\n",
       "      <th>33859</th>\n",
       "      <td>1171932479</td>\n",
       "      <td>Would you help a MONSTER make music? Yes or No?</td>\n",
       "      <td>Classical Music</td>\n",
       "      <td>Music</td>\n",
       "      <td>USD</td>\n",
       "      <td>21-09-2014</td>\n",
       "      <td>2000.0</td>\n",
       "      <td>22-08-2014 18:01</td>\n",
       "      <td>2778.00</td>\n",
       "      <td>successful</td>\n",
       "      <td>30</td>\n",
       "      <td>US</td>\n",
       "      <td>2778.00</td>\n",
       "      <td>2000.00</td>\n",
       "    </tr>\n",
       "    <tr>\n",
       "      <th>278069</th>\n",
       "      <td>484824490</td>\n",
       "      <td>Dracula: Son of the Dragon</td>\n",
       "      <td>Comics</td>\n",
       "      <td>Comics</td>\n",
       "      <td>USD</td>\n",
       "      <td>17-04-2013</td>\n",
       "      <td>14000.0</td>\n",
       "      <td>18-03-2013 16:54</td>\n",
       "      <td>15172.66</td>\n",
       "      <td>successful</td>\n",
       "      <td>329</td>\n",
       "      <td>US</td>\n",
       "      <td>15172.66</td>\n",
       "      <td>14000.00</td>\n",
       "    </tr>\n",
       "  </tbody>\n",
       "</table>\n",
       "</div>"
      ],
      "text/plain": [
       "                ID                                               name  \\\n",
       "99838   1506962323                   2018 Comic Con/ Horror Con/ GMCC   \n",
       "15731   1079621785                        Ixion's The Four Disgracers   \n",
       "339459   799118140                      Irving Comics Inc. (Canceled)   \n",
       "100211  1508896926                                          Breakaway   \n",
       "170820  1869016023                             the Atomic Café Mobile   \n",
       "75113   1382708884                                             Shaken   \n",
       "258934   386894220  Happiness Ambassador Postcard Project Year: 20...   \n",
       "178566    19084902                      Unlikely Friends (Short Film)   \n",
       "33859   1171932479    Would you help a MONSTER make music? Yes or No?   \n",
       "278069   484824490                         Dracula: Son of the Dragon   \n",
       "\n",
       "            subcategory      category currency    deadline     goal  \\\n",
       "99838               Art           Art      USD  10-10-2017    600.0   \n",
       "15731           Theater       Theater      USD  26-04-2014   3500.0   \n",
       "339459           Comics        Comics      USD  16-04-2015  10000.0   \n",
       "100211           Shorts  Film & Video      USD  17-10-2011   5000.0   \n",
       "170820           Drinks          Food      USD  19-06-2015   5000.0   \n",
       "75113             Dance         Dance      USD  11-04-2011   2000.0   \n",
       "258934      Mixed Media           Art      USD  29-09-2012    800.0   \n",
       "178566            Drama  Film & Video      GBP  13-03-2015    150.0   \n",
       "33859   Classical Music         Music      USD  21-09-2014   2000.0   \n",
       "278069           Comics        Comics      USD  17-04-2013  14000.0   \n",
       "\n",
       "                launched   pledged       state  backers country  \\\n",
       "99838   31-08-2017 04:05    600.00  successful        4      US   \n",
       "15731   27-03-2014 20:21   2920.00      failed       54      US   \n",
       "339459  17-03-2015 20:58     75.00    canceled        1      US   \n",
       "100211  16-09-2011 20:11   5365.00  successful       60      US   \n",
       "170820  20-05-2015 10:47   5111.06  successful       53      US   \n",
       "75113   11-03-2011 05:13   2615.00  successful       51      US   \n",
       "258934  15-09-2012 01:29     80.00      failed        3      US   \n",
       "178566  03-02-2015 09:49      5.00      failed        1      GB   \n",
       "33859   22-08-2014 18:01   2778.00  successful       30      US   \n",
       "278069  18-03-2013 16:54  15172.66  successful      329      US   \n",
       "\n",
       "        usd_pledged_real  usd_goal_real  \n",
       "99838             600.00         600.00  \n",
       "15731            2920.00        3500.00  \n",
       "339459             75.00       10000.00  \n",
       "100211           5365.00        5000.00  \n",
       "170820           5111.06        5000.00  \n",
       "75113            2615.00        2000.00  \n",
       "258934             80.00         800.00  \n",
       "178566              7.39         221.71  \n",
       "33859            2778.00        2000.00  \n",
       "278069          15172.66       14000.00  "
      ]
     },
     "execution_count": 4,
     "metadata": {},
     "output_type": "execute_result"
    }
   ],
   "source": [
    "df = pd.read_csv(\"KickStarterProjects.csv\")\n",
    "print(f'There are {df.shape[0]} rows and {df.shape[1]} columns.')  # f-string\n",
    "\n",
    "# I'm now going to look at 10 random rows\n",
    "# I'm setting the random seed via np.random.seed so that\n",
    "# I get the same random results every time\n",
    "np.random.seed(1)\n",
    "df.sample(n=10)"
   ]
  },
  {
   "cell_type": "code",
   "execution_count": 5,
   "metadata": {},
   "outputs": [
    {
     "name": "stdout",
     "output_type": "stream",
     "text": [
      "There are 378661 rows and 12 columns.\n"
     ]
    }
   ],
   "source": [
    "df.drop(['currency','goal'],axis=1,inplace=True)\n",
    "print(f'There are {df.shape[0]} rows and {df.shape[1]} columns.')  # f-string"
   ]
  },
  {
   "cell_type": "code",
   "execution_count": 6,
   "metadata": {},
   "outputs": [
    {
     "data": {
      "text/plain": [
       "name                4\n",
       "usd_goal_real       0\n",
       "usd_pledged_real    0\n",
       "country             0\n",
       "backers             0\n",
       "state               0\n",
       "pledged             0\n",
       "launched            0\n",
       "deadline            0\n",
       "category            0\n",
       "subcategory         0\n",
       "ID                  0\n",
       "dtype: int64"
      ]
     },
     "execution_count": 6,
     "metadata": {},
     "output_type": "execute_result"
    }
   ],
   "source": [
    "df.isnull().sum().sort_values(ascending=False)"
   ]
  },
  {
   "cell_type": "code",
   "execution_count": 8,
   "metadata": {},
   "outputs": [
    {
     "name": "stdout",
     "output_type": "stream",
     "text": [
      "<class 'pandas.core.frame.DataFrame'>\n",
      "RangeIndex: 378661 entries, 0 to 378660\n",
      "Data columns (total 12 columns):\n",
      " #   Column            Non-Null Count   Dtype  \n",
      "---  ------            --------------   -----  \n",
      " 0   ID                378661 non-null  int64  \n",
      " 1   name              378657 non-null  object \n",
      " 2   subcategory       378661 non-null  object \n",
      " 3   category          378661 non-null  object \n",
      " 4   deadline          378661 non-null  object \n",
      " 5   launched          378661 non-null  object \n",
      " 6   pledged           378661 non-null  float64\n",
      " 7   state             378661 non-null  object \n",
      " 8   backers           378661 non-null  int64  \n",
      " 9   country           378661 non-null  object \n",
      " 10  usd_pledged_real  378661 non-null  float64\n",
      " 11  usd_goal_real     378661 non-null  float64\n",
      "dtypes: float64(3), int64(2), object(7)\n",
      "memory usage: 34.7+ MB\n"
     ]
    }
   ],
   "source": [
    "df.info()"
   ]
  },
  {
   "cell_type": "code",
   "execution_count": 11,
   "metadata": {},
   "outputs": [
    {
     "data": {
      "text/plain": [
       "2938"
      ]
     },
     "execution_count": 11,
     "metadata": {},
     "output_type": "execute_result"
    }
   ],
   "source": [
    "df.duplicated(subset=['name']).sum()"
   ]
  },
  {
   "cell_type": "code",
   "execution_count": 12,
   "metadata": {},
   "outputs": [],
   "source": [
    "df.dropna(subset=[\"name\"], inplace=True)"
   ]
  },
  {
   "cell_type": "code",
   "execution_count": 13,
   "metadata": {},
   "outputs": [
    {
     "name": "stdout",
     "output_type": "stream",
     "text": [
      "<class 'pandas.core.frame.DataFrame'>\n",
      "Int64Index: 378657 entries, 0 to 378660\n",
      "Data columns (total 12 columns):\n",
      " #   Column            Non-Null Count   Dtype  \n",
      "---  ------            --------------   -----  \n",
      " 0   ID                378657 non-null  int64  \n",
      " 1   name              378657 non-null  object \n",
      " 2   subcategory       378657 non-null  object \n",
      " 3   category          378657 non-null  object \n",
      " 4   deadline          378657 non-null  object \n",
      " 5   launched          378657 non-null  object \n",
      " 6   pledged           378657 non-null  float64\n",
      " 7   state             378657 non-null  object \n",
      " 8   backers           378657 non-null  int64  \n",
      " 9   country           378657 non-null  object \n",
      " 10  usd_pledged_real  378657 non-null  float64\n",
      " 11  usd_goal_real     378657 non-null  float64\n",
      "dtypes: float64(3), int64(2), object(7)\n",
      "memory usage: 37.6+ MB\n"
     ]
    }
   ],
   "source": [
    "df.info()"
   ]
  },
  {
   "cell_type": "code",
   "execution_count": 14,
   "metadata": {},
   "outputs": [
    {
     "data": {
      "text/plain": [
       "ID                  378657\n",
       "name                375722\n",
       "subcategory            159\n",
       "category                15\n",
       "deadline              3164\n",
       "launched            347031\n",
       "pledged              62130\n",
       "state                    6\n",
       "backers               3963\n",
       "country                 23\n",
       "usd_pledged_real    106065\n",
       "usd_goal_real        50339\n",
       "dtype: int64"
      ]
     },
     "execution_count": 14,
     "metadata": {},
     "output_type": "execute_result"
    }
   ],
   "source": [
    "df.nunique()"
   ]
  },
  {
   "cell_type": "code",
   "execution_count": 15,
   "metadata": {},
   "outputs": [
    {
     "data": {
      "text/plain": [
       "failed        197716\n",
       "successful    133956\n",
       "canceled       38779\n",
       "undefined       3562\n",
       "live            2799\n",
       "suspended       1845\n",
       "Name: state, dtype: int64"
      ]
     },
     "execution_count": 15,
     "metadata": {},
     "output_type": "execute_result"
    }
   ],
   "source": [
    "df['state'].value_counts()"
   ]
  },
  {
   "cell_type": "code",
   "execution_count": 16,
   "metadata": {},
   "outputs": [
    {
     "data": {
      "text/html": [
       "<div>\n",
       "<style scoped>\n",
       "    .dataframe tbody tr th:only-of-type {\n",
       "        vertical-align: middle;\n",
       "    }\n",
       "\n",
       "    .dataframe tbody tr th {\n",
       "        vertical-align: top;\n",
       "    }\n",
       "\n",
       "    .dataframe thead th {\n",
       "        text-align: right;\n",
       "    }\n",
       "</style>\n",
       "<table border=\"1\" class=\"dataframe\">\n",
       "  <thead>\n",
       "    <tr style=\"text-align: right;\">\n",
       "      <th></th>\n",
       "      <th>count</th>\n",
       "      <th>mean</th>\n",
       "      <th>std</th>\n",
       "      <th>min</th>\n",
       "      <th>25%</th>\n",
       "      <th>50%</th>\n",
       "      <th>75%</th>\n",
       "      <th>max</th>\n",
       "    </tr>\n",
       "  </thead>\n",
       "  <tbody>\n",
       "    <tr>\n",
       "      <th>ID</th>\n",
       "      <td>378657.0</td>\n",
       "      <td>1.074732e+09</td>\n",
       "      <td>6.190872e+08</td>\n",
       "      <td>5971.00</td>\n",
       "      <td>538249926.0</td>\n",
       "      <td>1.075276e+09</td>\n",
       "      <td>1.610149e+09</td>\n",
       "      <td>2.147476e+09</td>\n",
       "    </tr>\n",
       "    <tr>\n",
       "      <th>pledged</th>\n",
       "      <td>378657.0</td>\n",
       "      <td>9.683080e+03</td>\n",
       "      <td>9.563651e+04</td>\n",
       "      <td>0.00</td>\n",
       "      <td>30.0</td>\n",
       "      <td>6.200000e+02</td>\n",
       "      <td>4.076000e+03</td>\n",
       "      <td>2.033899e+07</td>\n",
       "    </tr>\n",
       "    <tr>\n",
       "      <th>backers</th>\n",
       "      <td>378657.0</td>\n",
       "      <td>1.056185e+02</td>\n",
       "      <td>9.071898e+02</td>\n",
       "      <td>0.00</td>\n",
       "      <td>2.0</td>\n",
       "      <td>1.200000e+01</td>\n",
       "      <td>5.600000e+01</td>\n",
       "      <td>2.193820e+05</td>\n",
       "    </tr>\n",
       "    <tr>\n",
       "      <th>usd_pledged_real</th>\n",
       "      <td>378657.0</td>\n",
       "      <td>9.059018e+03</td>\n",
       "      <td>9.097382e+04</td>\n",
       "      <td>0.00</td>\n",
       "      <td>31.0</td>\n",
       "      <td>6.243800e+02</td>\n",
       "      <td>4.050000e+03</td>\n",
       "      <td>2.033899e+07</td>\n",
       "    </tr>\n",
       "    <tr>\n",
       "      <th>usd_goal_real</th>\n",
       "      <td>378657.0</td>\n",
       "      <td>4.545425e+04</td>\n",
       "      <td>1.152956e+06</td>\n",
       "      <td>0.01</td>\n",
       "      <td>2000.0</td>\n",
       "      <td>5.500000e+03</td>\n",
       "      <td>1.550000e+04</td>\n",
       "      <td>1.663614e+08</td>\n",
       "    </tr>\n",
       "  </tbody>\n",
       "</table>\n",
       "</div>"
      ],
      "text/plain": [
       "                     count          mean           std      min          25%  \\\n",
       "ID                378657.0  1.074732e+09  6.190872e+08  5971.00  538249926.0   \n",
       "pledged           378657.0  9.683080e+03  9.563651e+04     0.00         30.0   \n",
       "backers           378657.0  1.056185e+02  9.071898e+02     0.00          2.0   \n",
       "usd_pledged_real  378657.0  9.059018e+03  9.097382e+04     0.00         31.0   \n",
       "usd_goal_real     378657.0  4.545425e+04  1.152956e+06     0.01       2000.0   \n",
       "\n",
       "                           50%           75%           max  \n",
       "ID                1.075276e+09  1.610149e+09  2.147476e+09  \n",
       "pledged           6.200000e+02  4.076000e+03  2.033899e+07  \n",
       "backers           1.200000e+01  5.600000e+01  2.193820e+05  \n",
       "usd_pledged_real  6.243800e+02  4.050000e+03  2.033899e+07  \n",
       "usd_goal_real     5.500000e+03  1.550000e+04  1.663614e+08  "
      ]
     },
     "execution_count": 16,
     "metadata": {},
     "output_type": "execute_result"
    }
   ],
   "source": [
    "df.describe().T"
   ]
  },
  {
   "cell_type": "code",
   "execution_count": 17,
   "metadata": {},
   "outputs": [
    {
     "data": {
      "image/png": "[encoded data removed]",
      "text/plain": [
       "<Figure size 864x576 with 1 Axes>"
      ]
     },
     "metadata": {
      "needs_background": "light"
     },
     "output_type": "display_data"
    }
   ],
   "source": [
    "num_cols = ['backers']\n",
    "plt.figure(figsize = (12,8))\n",
    "\n",
    "for i, variable in enumerate(num_cols):\n",
    "    plt.subplot(2,3,i+1)\n",
    "    plt.boxplot(df[variable],whis=1.5)\n",
    "    plt.tight_layout\n",
    "    plt.title(variable)\n",
    "    \n",
    "plt.show()"
   ]
  },
  {
   "cell_type": "code",
   "execution_count": 22,
   "metadata": {},
   "outputs": [],
   "source": [
    "from sklearn.preprocessing import StandardScaler, MinMaxScaler"
   ]
  },
  {
   "cell_type": "code",
   "execution_count": 41,
   "metadata": {},
   "outputs": [
    {
     "name": "stderr",
     "output_type": "stream",
     "text": [
      "C:\\Users\\paige\\anaconda3\\lib\\site-packages\\matplotlib\\axes\\_axes.py:6699: RuntimeWarning: invalid value encountered in multiply\n",
      "  boffset = -0.5 * dr * totwidth * (1 - 1 / nx)\n"
     ]
    },
    {
     "data": {
      "image/png": "[encoded data removed]",
      "text/plain": [
       "<Figure size 432x288 with 1 Axes>"
      ]
     },
     "metadata": {
      "needs_background": "light"
     },
     "output_type": "display_data"
    },
    {
     "data": {
      "image/png": "[encoded data removed]",
      "text/plain": [
       "<Figure size 432x288 with 1 Axes>"
      ]
     },
     "metadata": {
      "needs_background": "light"
     },
     "output_type": "display_data"
    },
    {
     "data": {
      "image/png": "[encoded data removed]",
      "text/plain": [
       "<Figure size 432x288 with 1 Axes>"
      ]
     },
     "metadata": {
      "needs_background": "light"
     },
     "output_type": "display_data"
    },
    {
     "data": {
      "image/png": "[encoded data removed]",
      "text/plain": [
       "<Figure size 432x288 with 1 Axes>"
      ]
     },
     "metadata": {
      "needs_background": "light"
     },
     "output_type": "display_data"
    }
   ],
   "source": [
    "# replacing with scaled \n",
    "bins1=[0,10000,20000,30000,40000,np.inf]\n",
    "bins2 = [0,.00005,.00011,.00015,.0002]\n",
    "bins3 = [-5,0,5,10,15]\n",
    "\n",
    "df['usd_goal_real'].hist(bins=bins1)\n",
    "plt.title('Goal before minmax scaling')\n",
    "plt.show()\n",
    "\n",
    "df[['usd_goal_real_transform']] = MinMaxScaler().fit_transform(df[['usd_goal_real']])\n",
    "df['usd_goal_real_transform'].hist(bins=bins2)\n",
    "plt.title('Goal after minmax scaling')\n",
    "plt.show()\n",
    "\n",
    "std_scaler = StandardScaler()\n",
    "df['usd_goal_real_std'] = std_scaler.fit_transform(df[['usd_goal_real']])\n",
    "df['usd_goal_real_std'].hist(bins=bins2)\n",
    "plt.title('Goal after z transformation')\n",
    "plt.show()\n",
    "\n",
    "df['usd_goal_real_log'] = np.log(df['usd_goal_real'] + 1)\n",
    "df['usd_goal_real_log'].hist()\n",
    "plt.title('Goal after log transformation')\n",
    "plt.show()"
   ]
  },
  {
   "cell_type": "code",
   "execution_count": 42,
   "metadata": {},
   "outputs": [
    {
     "data": {
      "text/plain": [
       "category\n",
       "Art              39198.725018\n",
       "Comics           19571.430669\n",
       "Crafts           10434.466228\n",
       "Dance             9588.328548\n",
       "Design           41872.697959\n",
       "Fashion          22412.409361\n",
       "Film & Video     82623.446274\n",
       "Food             49039.620802\n",
       "Games            44924.925023\n",
       "Journalism       86003.395014\n",
       "Music            15372.161844\n",
       "Photography      12266.843699\n",
       "Publishing       24798.240254\n",
       "Technology      102288.542838\n",
       "Theater          27088.321275\n",
       "Name: usd_goal_real, dtype: float64"
      ]
     },
     "execution_count": 42,
     "metadata": {},
     "output_type": "execute_result"
    }
   ],
   "source": [
    "df.groupby([\"category\"])[\"usd_goal_real\"].mean()"
   ]
  },
  {
   "cell_type": "code",
   "execution_count": 46,
   "metadata": {},
   "outputs": [
    {
     "data": {
      "text/html": [
       "<div>\n",
       "<style scoped>\n",
       "    .dataframe tbody tr th:only-of-type {\n",
       "        vertical-align: middle;\n",
       "    }\n",
       "\n",
       "    .dataframe tbody tr th {\n",
       "        vertical-align: top;\n",
       "    }\n",
       "\n",
       "    .dataframe thead th {\n",
       "        text-align: right;\n",
       "    }\n",
       "</style>\n",
       "<table border=\"1\" class=\"dataframe\">\n",
       "  <thead>\n",
       "    <tr style=\"text-align: right;\">\n",
       "      <th></th>\n",
       "      <th>0</th>\n",
       "      <th>1</th>\n",
       "      <th>2</th>\n",
       "    </tr>\n",
       "  </thead>\n",
       "  <tbody>\n",
       "    <tr>\n",
       "      <th>0</th>\n",
       "      <td>11</td>\n",
       "      <td>08</td>\n",
       "      <td>2015 12:12</td>\n",
       "    </tr>\n",
       "    <tr>\n",
       "      <th>1</th>\n",
       "      <td>02</td>\n",
       "      <td>09</td>\n",
       "      <td>2017 04:43</td>\n",
       "    </tr>\n",
       "    <tr>\n",
       "      <th>2</th>\n",
       "      <td>12</td>\n",
       "      <td>01</td>\n",
       "      <td>2013 00:20</td>\n",
       "    </tr>\n",
       "    <tr>\n",
       "      <th>3</th>\n",
       "      <td>17</td>\n",
       "      <td>03</td>\n",
       "      <td>2012 03:24</td>\n",
       "    </tr>\n",
       "    <tr>\n",
       "      <th>4</th>\n",
       "      <td>04</td>\n",
       "      <td>07</td>\n",
       "      <td>2015 08:35</td>\n",
       "    </tr>\n",
       "  </tbody>\n",
       "</table>\n",
       "</div>"
      ],
      "text/plain": [
       "    0   1           2\n",
       "0  11  08  2015 12:12\n",
       "1  02  09  2017 04:43\n",
       "2  12  01  2013 00:20\n",
       "3  17  03  2012 03:24\n",
       "4  04  07  2015 08:35"
      ]
     },
     "execution_count": 46,
     "metadata": {},
     "output_type": "execute_result"
    }
   ],
   "source": [
    "df_split = df[\"launched\"].str.split(\"-\", n = 2, expand = True)\n",
    "df_split.head()"
   ]
  },
  {
   "cell_type": "code",
   "execution_count": 48,
   "metadata": {},
   "outputs": [
    {
     "data": {
      "text/plain": [
       "07    36367\n",
       "03    33946\n",
       "10    33490\n",
       "11    32889\n",
       "05    32888\n",
       "06    32622\n",
       "08    32291\n",
       "04    32260\n",
       "09    31069\n",
       "02    29732\n",
       "01    27840\n",
       "12    23263\n",
       "Name: 1, dtype: int64"
      ]
     },
     "execution_count": 48,
     "metadata": {},
     "output_type": "execute_result"
    }
   ],
   "source": [
    "df_split[1].value_counts()"
   ]
  },
  {
   "cell_type": "code",
   "execution_count": null,
   "metadata": {},
   "outputs": [],
   "source": [
    "df."
   ]
  }
 ],
 "metadata": {
  "kernelspec": {
   "display_name": "Python 3",
   "language": "python",
   "name": "python3"
  },
  "language_info": {
   "codemirror_mode": {
    "name": "ipython",
    "version": 3
   },
   "file_extension": ".py",
   "mimetype": "text/x-python",
   "name": "python",
   "nbconvert_exporter": "python",
   "pygments_lexer": "ipython3",
   "version": "3.8.5"
  }
 },
 "nbformat": 4,
 "nbformat_minor": 4
}
